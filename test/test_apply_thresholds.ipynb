{
 "cells": [
  {
   "cell_type": "code",
   "execution_count": 1,
   "metadata": {
    "collapsed": true
   },
   "outputs": [],
   "source": [
    "\n",
    "import pandas as pd"
   ]
  },
  {
   "cell_type": "code",
   "execution_count": 3,
   "outputs": [
    {
     "data": {
      "text/plain": "       vessel_length_m  detect_scene_row  detect_scene_column  objectness_p  \\\ncount      5634.000000       5634.000000          5634.000000   5634.000000   \nmean         24.411436      11511.197018         14396.790380      0.442755   \nstd          18.015006       5220.281014          6182.476614      0.143879   \nmin          13.742188        733.000000           602.000000      0.300049   \n25%          16.468750       7028.250000          9770.000000      0.333252   \n50%          18.109375      11391.000000         14390.500000      0.383789   \n75%          22.750000      15796.000000         18384.750000      0.514160   \nmax         165.250000      23401.000000         28681.000000      0.883301   \n\n       is_vessel_p  is_fishing_p  objectness_threshold  \ncount  5634.000000   5634.000000                5634.0  \nmean      0.810935      0.148028                   0.3  \nstd       0.218972      0.277612                   0.0  \nmin       0.034180      0.000010                   0.3  \n25%       0.793945      0.000660                   0.3  \n50%       0.913086      0.009087                   0.3  \n75%       0.937012      0.111084                   0.3  \nmax       0.966309      0.942383                   0.3  ",
      "text/html": "<div>\n<style scoped>\n    .dataframe tbody tr th:only-of-type {\n        vertical-align: middle;\n    }\n\n    .dataframe tbody tr th {\n        vertical-align: top;\n    }\n\n    .dataframe thead th {\n        text-align: right;\n    }\n</style>\n<table border=\"1\" class=\"dataframe\">\n  <thead>\n    <tr style=\"text-align: right;\">\n      <th></th>\n      <th>vessel_length_m</th>\n      <th>detect_scene_row</th>\n      <th>detect_scene_column</th>\n      <th>objectness_p</th>\n      <th>is_vessel_p</th>\n      <th>is_fishing_p</th>\n      <th>objectness_threshold</th>\n    </tr>\n  </thead>\n  <tbody>\n    <tr>\n      <th>count</th>\n      <td>5634.000000</td>\n      <td>5634.000000</td>\n      <td>5634.000000</td>\n      <td>5634.000000</td>\n      <td>5634.000000</td>\n      <td>5634.000000</td>\n      <td>5634.0</td>\n    </tr>\n    <tr>\n      <th>mean</th>\n      <td>24.411436</td>\n      <td>11511.197018</td>\n      <td>14396.790380</td>\n      <td>0.442755</td>\n      <td>0.810935</td>\n      <td>0.148028</td>\n      <td>0.3</td>\n    </tr>\n    <tr>\n      <th>std</th>\n      <td>18.015006</td>\n      <td>5220.281014</td>\n      <td>6182.476614</td>\n      <td>0.143879</td>\n      <td>0.218972</td>\n      <td>0.277612</td>\n      <td>0.0</td>\n    </tr>\n    <tr>\n      <th>min</th>\n      <td>13.742188</td>\n      <td>733.000000</td>\n      <td>602.000000</td>\n      <td>0.300049</td>\n      <td>0.034180</td>\n      <td>0.000010</td>\n      <td>0.3</td>\n    </tr>\n    <tr>\n      <th>25%</th>\n      <td>16.468750</td>\n      <td>7028.250000</td>\n      <td>9770.000000</td>\n      <td>0.333252</td>\n      <td>0.793945</td>\n      <td>0.000660</td>\n      <td>0.3</td>\n    </tr>\n    <tr>\n      <th>50%</th>\n      <td>18.109375</td>\n      <td>11391.000000</td>\n      <td>14390.500000</td>\n      <td>0.383789</td>\n      <td>0.913086</td>\n      <td>0.009087</td>\n      <td>0.3</td>\n    </tr>\n    <tr>\n      <th>75%</th>\n      <td>22.750000</td>\n      <td>15796.000000</td>\n      <td>18384.750000</td>\n      <td>0.514160</td>\n      <td>0.937012</td>\n      <td>0.111084</td>\n      <td>0.3</td>\n    </tr>\n    <tr>\n      <th>max</th>\n      <td>165.250000</td>\n      <td>23401.000000</td>\n      <td>28681.000000</td>\n      <td>0.883301</td>\n      <td>0.966309</td>\n      <td>0.942383</td>\n      <td>0.3</td>\n    </tr>\n  </tbody>\n</table>\n</div>"
     },
     "execution_count": 3,
     "metadata": {},
     "output_type": "execute_result"
    }
   ],
   "source": [
    "preds = pd.read_csv(\"holdout_unfiltered_predictions_step_1536_tta_None.csv\")\n",
    "preds.describe()"
   ],
   "metadata": {
    "collapsed": false,
    "pycharm": {
     "name": "#%%\n"
    }
   }
  },
  {
   "cell_type": "code",
   "execution_count": 6,
   "outputs": [],
   "source": [
    "from xview3 import XView3DataModule\n",
    "\n",
    "data_dir = \"f:/datasets/xview3\"\n",
    "data = XView3DataModule(data_dir)\n",
    "\n",
    "_, _, holdout_df, shore_root = data.train_val_split(\n",
    "    splitter={\"name\":\"precomputed\", \"split_csv\": \"../configs/dataset/valid_only_split.csv\"},\n",
    "    fold=0,\n",
    "    num_folds=4,\n",
    ")\n",
    "holdout_scenes = list(holdout_df.scene_path.unique())"
   ],
   "metadata": {
    "collapsed": false,
    "pycharm": {
     "name": "#%%\n"
    }
   }
  },
  {
   "cell_type": "code",
   "execution_count": 14,
   "outputs": [],
   "source": [
    "objectness_threshold, vessel_threshold, fishing_threshold = 0.55, 0.45, 0.4"
   ],
   "metadata": {
    "collapsed": false,
    "pycharm": {
     "name": "#%%\n"
    }
   }
  },
  {
   "cell_type": "code",
   "execution_count": 15,
   "outputs": [
    {
     "data": {
      "text/plain": "{'loc_fscore': 0.6164533820840951,\n 'loc_fscore_shore': 0.24165707710011505,\n 'vessel_fscore': 0.9131832797427653,\n 'fishing_fscore': 0.8676056338028169,\n 'length_acc': 0.6769496882939042,\n 'aggregate': 0.4561009955899208,\n 'loc_precision': 0.6966942148760331,\n 'loc_recall': 0.5527868852459017,\n 'vessel_precision': 0.8580060422960725,\n 'vessel_recall': 0.9759450171821306,\n 'fishing_precision': 0.88,\n 'fishing_recall': 0.8555555555555555}"
     },
     "execution_count": 15,
     "metadata": {},
     "output_type": "execute_result"
    }
   ],
   "source": [
    "from xview3 import apply_thresholds, filter_low_confidence_objects\n",
    "from xview3.metric_mp import score_mp\n",
    "\n",
    "score_mp(\n",
    "    apply_thresholds(preds, objectness_threshold, vessel_threshold, fishing_threshold),\n",
    "    filter_low_confidence_objects(holdout_df),\n",
    "    shore_root, workers=6\n",
    ")"
   ],
   "metadata": {
    "collapsed": false,
    "pycharm": {
     "name": "#%%\n"
    }
   }
  },
  {
   "cell_type": "code",
   "execution_count": 17,
   "outputs": [
    {
     "data": {
      "text/plain": "{'loc_fscore': 0.6164533820840951,\n 'loc_fscore_shore': 0.24165707710011505,\n 'vessel_fscore': 0.9124497991967871,\n 'fishing_fscore': 0.8676056338028169,\n 'length_acc': 0.6769496882939043,\n 'aggregate': 0.45601056427726866,\n 'loc_precision': 0.6966942148760331,\n 'loc_recall': 0.5527868852459017,\n 'vessel_precision': 0.8567119155354449,\n 'vessel_recall': 0.9759450171821306,\n 'fishing_precision': 0.88,\n 'fishing_recall': 0.8555555555555555}"
     },
     "execution_count": 17,
     "metadata": {},
     "output_type": "execute_result"
    }
   ],
   "source": [
    "def apply_thresholds_smart(\n",
    "    df: pd.DataFrame, objectness_threshold: float, is_vessel_threshold: float, is_fishing_threshold: float\n",
    ") -> pd.DataFrame:\n",
    "    df = df[df.objectness_p >= objectness_threshold].copy().reset_index(drop=True)\n",
    "\n",
    "    df[\"is_fishing\"] = (df[\"is_fishing_p\"] >= is_fishing_threshold) & (df[\"is_vessel_p\"] >= is_vessel_threshold)\n",
    "    df[\"is_vessel\"] = (df[\"is_vessel_p\"] >= is_vessel_threshold) | (df[\"is_fishing_p\"] >= is_fishing_threshold)\n",
    "\n",
    "    #df[\"is_fishing\"] = (df[\"is_fishing_p\"] >= is_fishing_threshold) #& (df[\"is_vessel_p\"] >= is_vessel_threshold)\n",
    "    #df[\"is_vessel\"] = (df[\"is_vessel_p\"] >= is_vessel_threshold) | (df[\"is_fishing_p\"] >= is_fishing_threshold)\n",
    "    return df\n",
    "\n",
    "score_mp(\n",
    "    apply_thresholds_smart(preds, objectness_threshold, vessel_threshold, fishing_threshold),\n",
    "    filter_low_confidence_objects(holdout_df),\n",
    "    shore_root, workers=6\n",
    ")"
   ],
   "metadata": {
    "collapsed": false,
    "pycharm": {
     "name": "#%%\n"
    }
   }
  },
  {
   "cell_type": "code",
   "execution_count": null,
   "outputs": [],
   "source": [],
   "metadata": {
    "collapsed": false,
    "pycharm": {
     "name": "#%%\n"
    }
   }
  }
 ],
 "metadata": {
  "kernelspec": {
   "display_name": "Python 3",
   "language": "python",
   "name": "python3"
  },
  "language_info": {
   "codemirror_mode": {
    "name": "ipython",
    "version": 2
   },
   "file_extension": ".py",
   "mimetype": "text/x-python",
   "name": "python",
   "nbconvert_exporter": "python",
   "pygments_lexer": "ipython2",
   "version": "2.7.6"
  }
 },
 "nbformat": 4,
 "nbformat_minor": 0
}